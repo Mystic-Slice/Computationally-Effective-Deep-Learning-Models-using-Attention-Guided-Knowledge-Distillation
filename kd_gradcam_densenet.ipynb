{
 "cells": [
  {
   "cell_type": "markdown",
   "id": "dc53316c",
   "metadata": {
    "id": "OV5ldVqh6vSw"
   },
   "source": [
    "# Data Prep"
   ]
  },
  {
   "cell_type": "code",
   "execution_count": 1,
   "id": "4662d8ba",
   "metadata": {
    "id": "KF3yU_xQN7L3"
   },
   "outputs": [
    {
     "name": "stderr",
     "output_type": "stream",
     "text": [
      "<frozen importlib._bootstrap>:241: RuntimeWarning: scipy._lib.messagestream.MessageStream size changed, may indicate binary incompatibility. Expected 56 from C header, got 64 from PyObject\n"
     ]
    }
   ],
   "source": [
    "import numpy as np \n",
    "import pandas as pd \n",
    "import tensorflow as tf\n",
    "tf.config.run_functions_eagerly(True)\n",
    "from matplotlib import pyplot as plt\n",
    "from tensorflow.keras.preprocessing.image import ImageDataGenerator\n",
    "from skimage import exposure\n",
    "from PIL import Image\n",
    "import skimage.measure\n",
    "import os\n",
    "import cv2"
   ]
  },
  {
   "cell_type": "code",
   "execution_count": 2,
   "id": "f05d32ed",
   "metadata": {},
   "outputs": [],
   "source": [
    "train_df = pd.read_csv(\"train.csv\").iloc[:-2, :]\n",
    "val_df = pd.read_csv(\"test.csv\")"
   ]
  },
  {
   "cell_type": "code",
   "execution_count": 3,
   "id": "b01daa9c",
   "metadata": {},
   "outputs": [
    {
     "data": {
      "text/html": [
       "<div>\n",
       "<style scoped>\n",
       "    .dataframe tbody tr th:only-of-type {\n",
       "        vertical-align: middle;\n",
       "    }\n",
       "\n",
       "    .dataframe tbody tr th {\n",
       "        vertical-align: top;\n",
       "    }\n",
       "\n",
       "    .dataframe thead th {\n",
       "        text-align: right;\n",
       "    }\n",
       "</style>\n",
       "<table border=\"1\" class=\"dataframe\">\n",
       "  <thead>\n",
       "    <tr style=\"text-align: right;\">\n",
       "      <th></th>\n",
       "      <th>filename</th>\n",
       "      <th>diagnostic</th>\n",
       "    </tr>\n",
       "  </thead>\n",
       "  <tbody>\n",
       "    <tr>\n",
       "      <th>0</th>\n",
       "      <td>PAD-UFES-20/PAT_735_1391_683.png</td>\n",
       "      <td>ACK</td>\n",
       "    </tr>\n",
       "    <tr>\n",
       "      <th>1</th>\n",
       "      <td>PAD-UFES-20/PAT_1722_3214_672.png</td>\n",
       "      <td>ACK</td>\n",
       "    </tr>\n",
       "    <tr>\n",
       "      <th>2</th>\n",
       "      <td>PAD-UFES-20/PAT_730_1385_585.png</td>\n",
       "      <td>BCC</td>\n",
       "    </tr>\n",
       "    <tr>\n",
       "      <th>3</th>\n",
       "      <td>PAD-UFES-20/PAT_999_20_223.png</td>\n",
       "      <td>ACK</td>\n",
       "    </tr>\n",
       "    <tr>\n",
       "      <th>4</th>\n",
       "      <td>PAD-UFES-20/PAT_625_1184_994.png</td>\n",
       "      <td>SEK</td>\n",
       "    </tr>\n",
       "    <tr>\n",
       "      <th>...</th>\n",
       "      <td>...</td>\n",
       "      <td>...</td>\n",
       "    </tr>\n",
       "    <tr>\n",
       "      <th>1831</th>\n",
       "      <td>PAD-UFES-20/PAT_1261_896_349.png</td>\n",
       "      <td>SEK</td>\n",
       "    </tr>\n",
       "    <tr>\n",
       "      <th>1832</th>\n",
       "      <td>PAD-UFES-20/PAT_935_1781_341.png</td>\n",
       "      <td>BCC</td>\n",
       "    </tr>\n",
       "    <tr>\n",
       "      <th>1833</th>\n",
       "      <td>PAD-UFES-20/PAT_718_1358_919.png</td>\n",
       "      <td>BCC</td>\n",
       "    </tr>\n",
       "    <tr>\n",
       "      <th>1834</th>\n",
       "      <td>PAD-UFES-20/PAT_2153_4782_321.png</td>\n",
       "      <td>ACK</td>\n",
       "    </tr>\n",
       "    <tr>\n",
       "      <th>1835</th>\n",
       "      <td>PAD-UFES-20/PAT_930_1760_560.png</td>\n",
       "      <td>BCC</td>\n",
       "    </tr>\n",
       "  </tbody>\n",
       "</table>\n",
       "<p>1836 rows × 2 columns</p>\n",
       "</div>"
      ],
      "text/plain": [
       "                               filename diagnostic\n",
       "0      PAD-UFES-20/PAT_735_1391_683.png        ACK\n",
       "1     PAD-UFES-20/PAT_1722_3214_672.png        ACK\n",
       "2      PAD-UFES-20/PAT_730_1385_585.png        BCC\n",
       "3        PAD-UFES-20/PAT_999_20_223.png        ACK\n",
       "4      PAD-UFES-20/PAT_625_1184_994.png        SEK\n",
       "...                                 ...        ...\n",
       "1831   PAD-UFES-20/PAT_1261_896_349.png        SEK\n",
       "1832   PAD-UFES-20/PAT_935_1781_341.png        BCC\n",
       "1833   PAD-UFES-20/PAT_718_1358_919.png        BCC\n",
       "1834  PAD-UFES-20/PAT_2153_4782_321.png        ACK\n",
       "1835   PAD-UFES-20/PAT_930_1760_560.png        BCC\n",
       "\n",
       "[1836 rows x 2 columns]"
      ]
     },
     "execution_count": 3,
     "metadata": {},
     "output_type": "execute_result"
    }
   ],
   "source": [
    "train_df"
   ]
  },
  {
   "cell_type": "code",
   "execution_count": 4,
   "id": "286ad71b",
   "metadata": {},
   "outputs": [
    {
     "data": {
      "text/html": [
       "<div>\n",
       "<style scoped>\n",
       "    .dataframe tbody tr th:only-of-type {\n",
       "        vertical-align: middle;\n",
       "    }\n",
       "\n",
       "    .dataframe tbody tr th {\n",
       "        vertical-align: top;\n",
       "    }\n",
       "\n",
       "    .dataframe thead th {\n",
       "        text-align: right;\n",
       "    }\n",
       "</style>\n",
       "<table border=\"1\" class=\"dataframe\">\n",
       "  <thead>\n",
       "    <tr style=\"text-align: right;\">\n",
       "      <th></th>\n",
       "      <th>filename</th>\n",
       "      <th>diagnostic</th>\n",
       "    </tr>\n",
       "  </thead>\n",
       "  <tbody>\n",
       "    <tr>\n",
       "      <th>0</th>\n",
       "      <td>PAD-UFES-20/PAT_967_1827_247.png</td>\n",
       "      <td>BCC</td>\n",
       "    </tr>\n",
       "    <tr>\n",
       "      <th>1</th>\n",
       "      <td>PAD-UFES-20/PAT_905_1721_327.png</td>\n",
       "      <td>BCC</td>\n",
       "    </tr>\n",
       "    <tr>\n",
       "      <th>2</th>\n",
       "      <td>PAD-UFES-20/PAT_1661_2956_357.png</td>\n",
       "      <td>ACK</td>\n",
       "    </tr>\n",
       "    <tr>\n",
       "      <th>3</th>\n",
       "      <td>PAD-UFES-20/PAT_1107_427_352.png</td>\n",
       "      <td>NEV</td>\n",
       "    </tr>\n",
       "    <tr>\n",
       "      <th>4</th>\n",
       "      <td>PAD-UFES-20/PAT_2077_4463_77.png</td>\n",
       "      <td>ACK</td>\n",
       "    </tr>\n",
       "    <tr>\n",
       "      <th>...</th>\n",
       "      <td>...</td>\n",
       "      <td>...</td>\n",
       "    </tr>\n",
       "    <tr>\n",
       "      <th>455</th>\n",
       "      <td>PAD-UFES-20/PAT_1922_3848_451.png</td>\n",
       "      <td>SEK</td>\n",
       "    </tr>\n",
       "    <tr>\n",
       "      <th>456</th>\n",
       "      <td>PAD-UFES-20/PAT_1468_3656_337.png</td>\n",
       "      <td>ACK</td>\n",
       "    </tr>\n",
       "    <tr>\n",
       "      <th>457</th>\n",
       "      <td>PAD-UFES-20/PAT_406_809_581.png</td>\n",
       "      <td>BCC</td>\n",
       "    </tr>\n",
       "    <tr>\n",
       "      <th>458</th>\n",
       "      <td>PAD-UFES-20/PAT_1573_2497_736.png</td>\n",
       "      <td>ACK</td>\n",
       "    </tr>\n",
       "    <tr>\n",
       "      <th>459</th>\n",
       "      <td>PAD-UFES-20/PAT_14_22_850.png</td>\n",
       "      <td>BCC</td>\n",
       "    </tr>\n",
       "  </tbody>\n",
       "</table>\n",
       "<p>460 rows × 2 columns</p>\n",
       "</div>"
      ],
      "text/plain": [
       "                              filename diagnostic\n",
       "0     PAD-UFES-20/PAT_967_1827_247.png        BCC\n",
       "1     PAD-UFES-20/PAT_905_1721_327.png        BCC\n",
       "2    PAD-UFES-20/PAT_1661_2956_357.png        ACK\n",
       "3     PAD-UFES-20/PAT_1107_427_352.png        NEV\n",
       "4     PAD-UFES-20/PAT_2077_4463_77.png        ACK\n",
       "..                                 ...        ...\n",
       "455  PAD-UFES-20/PAT_1922_3848_451.png        SEK\n",
       "456  PAD-UFES-20/PAT_1468_3656_337.png        ACK\n",
       "457    PAD-UFES-20/PAT_406_809_581.png        BCC\n",
       "458  PAD-UFES-20/PAT_1573_2497_736.png        ACK\n",
       "459      PAD-UFES-20/PAT_14_22_850.png        BCC\n",
       "\n",
       "[460 rows x 2 columns]"
      ]
     },
     "execution_count": 4,
     "metadata": {},
     "output_type": "execute_result"
    }
   ],
   "source": [
    "val_df"
   ]
  },
  {
   "cell_type": "code",
   "execution_count": 5,
   "id": "ec91c5d0",
   "metadata": {
    "id": "hUGmp8EvERyY"
   },
   "outputs": [],
   "source": [
    "BATCH_SIZE = 4\n",
    "IMG_SIZE = 224\n",
    "NUM_CLASSES = train_df[\"diagnostic\"].nunique()\n",
    "TRAIN_RATIO = 0.8"
   ]
  },
  {
   "cell_type": "code",
   "execution_count": 6,
   "id": "88ae1dd3",
   "metadata": {
    "colab": {
     "base_uri": "https://localhost:8080/"
    },
    "id": "eT3O490vDn0K",
    "outputId": "909dc829-7151-4df7-a7ab-a32493f528bc"
   },
   "outputs": [
    {
     "name": "stdout",
     "output_type": "stream",
     "text": [
      "Found 1836 validated image filenames belonging to 6 classes.\n",
      "Found 460 validated image filenames belonging to 6 classes.\n"
     ]
    }
   ],
   "source": [
    "datagen = ImageDataGenerator (\n",
    "    rescale = 1/255.,\n",
    ")\n",
    "\n",
    "training_generator = datagen.flow_from_dataframe (\n",
    "    train_df,\n",
    "    x_col = \"filename\",\n",
    "    y_col = \"diagnostic\",\n",
    "    batch_size = BATCH_SIZE,\n",
    "    target_size = ((IMG_SIZE, IMG_SIZE)),\n",
    ")\n",
    "\n",
    "val_generator = datagen.flow_from_dataframe (\n",
    "    val_df,\n",
    "    x_col = \"filename\",\n",
    "    y_col = \"diagnostic\",\n",
    "    batch_size = BATCH_SIZE,\n",
    "    target_size = ((IMG_SIZE, IMG_SIZE)),\n",
    ")"
   ]
  },
  {
   "cell_type": "code",
   "execution_count": 7,
   "id": "dbbd6232",
   "metadata": {
    "colab": {
     "base_uri": "https://localhost:8080/",
     "height": 317
    },
    "id": "8YRGjzPCSI7I",
    "outputId": "a6ca1757-9fdc-4eed-fb12-5f9685937da6"
   },
   "outputs": [
    {
     "data": {
      "image/png": "[encoded data removed]",
      "text/plain": [
       "<Figure size 640x480 with 1 Axes>"
      ]
     },
     "metadata": {},
     "output_type": "display_data"
    }
   ],
   "source": [
    "# plt.hist(training_generator.labels)\n",
    "plt.rcParams[\"font.weight\"] = \"bold\"\n",
    "plt.rcParams[\"axes.labelweight\"] = \"bold\"\n",
    "train_df.diagnostic.value_counts().sort_index().plot.bar(label=\"training\")\n",
    "val_df.diagnostic.value_counts().sort_index().plot.bar(label=\"validation\", color=\"orange\")\n",
    "plt.xlabel(\"Diagnosis\")\n",
    "plt.ylabel(\"Number of samples\")\n",
    "plt.xticks(rotation=0)\n",
    "plt.legend()\n",
    "plt.show()"
   ]
  },
  {
   "cell_type": "code",
   "execution_count": 8,
   "id": "4b8828cd",
   "metadata": {},
   "outputs": [
    {
     "data": {
      "text/plain": [
       "ACK    584\n",
       "BCC    674\n",
       "MEL     42\n",
       "NEV    195\n",
       "SCC    153\n",
       "SEK    188\n",
       "Name: diagnostic, dtype: int64"
      ]
     },
     "execution_count": 8,
     "metadata": {},
     "output_type": "execute_result"
    }
   ],
   "source": [
    "train_df.diagnostic.value_counts().sort_index()"
   ]
  },
  {
   "cell_type": "code",
   "execution_count": 9,
   "id": "0844bb85",
   "metadata": {
    "colab": {
     "base_uri": "https://localhost:8080/",
     "height": 317
    },
    "id": "N0rx_gURSNzG",
    "outputId": "bc803e95-59d0-41bb-89c9-577ae91063ac"
   },
   "outputs": [
    {
     "data": {
      "text/plain": [
       "(array([146.,   0., 169.,   0.,  10.,   0.,  49.,   0.,  39.,  47.]),\n",
       " array([0. , 0.5, 1. , 1.5, 2. , 2.5, 3. , 3.5, 4. , 4.5, 5. ]),\n",
       " <BarContainer object of 10 artists>)"
      ]
     },
     "execution_count": 9,
     "metadata": {},
     "output_type": "execute_result"
    },
    {
     "data": {
      "image/png": "[encoded data removed]",
      "text/plain": [
       "<Figure size 640x480 with 1 Axes>"
      ]
     },
     "metadata": {},
     "output_type": "display_data"
    }
   ],
   "source": [
    "plt.hist(val_generator.labels)"
   ]
  },
  {
   "cell_type": "code",
   "execution_count": 10,
   "id": "0fa08ab3",
   "metadata": {},
   "outputs": [
    {
     "data": {
      "text/plain": [
       "{0: 0.523972602739726,\n",
       " 1: 0.4540059347181009,\n",
       " 2: 7.285714285714286,\n",
       " 3: 1.5692307692307692,\n",
       " 4: 2.0,\n",
       " 5: 1.627659574468085}"
      ]
     },
     "execution_count": 10,
     "metadata": {},
     "output_type": "execute_result"
    }
   ],
   "source": [
    "from sklearn.utils import class_weight \n",
    "import numpy as np\n",
    "\n",
    "class_weights = class_weight.compute_class_weight(\n",
    "    class_weight = 'balanced', \n",
    "    classes = np.unique(training_generator.classes), \n",
    "    y = training_generator.classes)\n",
    "class_weights = dict(zip(np.unique(training_generator.classes), class_weights))\n",
    "class_weights"
   ]
  },
  {
   "cell_type": "code",
   "execution_count": 11,
   "id": "cd4693fb",
   "metadata": {
    "id": "fpR8mDQxArKo"
   },
   "outputs": [],
   "source": [
    "classes = train_df[\"diagnostic\"].unique()"
   ]
  },
  {
   "cell_type": "markdown",
   "id": "b476fcae",
   "metadata": {
    "id": "I6aa30d3IPPP"
   },
   "source": [
    "# GradCAM"
   ]
  },
  {
   "cell_type": "code",
   "execution_count": 12,
   "id": "1de45ac1",
   "metadata": {},
   "outputs": [],
   "source": [
    "from skimage.transform import resize"
   ]
  },
  {
   "cell_type": "code",
   "execution_count": 13,
   "id": "305dd143",
   "metadata": {},
   "outputs": [],
   "source": [
    "@tf.function\n",
    "def normalize(heatmap):\n",
    "    num = heatmap - tf.reduce_min(heatmap)\n",
    "    deno = (tf.reduce_max(heatmap) - tf.reduce_min(heatmap))\n",
    "    if deno == 0:\n",
    "        return heatmap\n",
    "    heatmap = num / deno\n",
    "    return heatmap"
   ]
  },
  {
   "cell_type": "code",
   "execution_count": 14,
   "id": "28b4337b",
   "metadata": {},
   "outputs": [],
   "source": [
    "@tf.function\n",
    "def compute_gradcam_map(model, image, eps=1e-8):\n",
    "    gradModel = tf.keras.models.Model(\n",
    "        inputs=[model.inputs],\n",
    "        outputs=[model.get_layer(get_last_layer_name(model)).output, model.output]\n",
    "    )\n",
    "    gradModel.layers[-1].activation = tf.keras.activations.linear\n",
    "\n",
    "    with tf.GradientTape(persistent = True) as tape:\n",
    "        input_image = tf.cast(image, tf.float32)\n",
    "        convOutputs, predictions = gradModel(input_image, training=False)\n",
    "        classid = tf.argmax(predictions[0])\n",
    "        loss = predictions[:, classid]\n",
    "\n",
    "    grads = tape.gradient(loss, convOutputs)\n",
    "\n",
    "    pooled_grads = tf.reduce_mean(grads, axis = (0, 1, 2))\n",
    "\n",
    "    convOutputs = convOutputs[0]\n",
    "    heatmap = convOutputs @ pooled_grads[..., tf.newaxis]\n",
    "    heatmap = tf.squeeze(heatmap)\n",
    "\n",
    "    heatmap = tf.image.resize(heatmap[tf.newaxis, ..., tf.newaxis], [IMG_SIZE, IMG_SIZE])\n",
    "    heatmap = tf.squeeze(heatmap)\n",
    "\n",
    "    heatmap = normalize(heatmap)\n",
    "    return heatmap"
   ]
  },
  {
   "cell_type": "code",
   "execution_count": 15,
   "id": "789a13c8",
   "metadata": {},
   "outputs": [],
   "source": [
    "@tf.function\n",
    "def get_last_layer_name(model):\n",
    "    for layer in reversed(model.layers):\n",
    "        if isinstance(layer, tf.keras.layers.Conv2D):\n",
    "            return layer.name\n",
    "    return []"
   ]
  },
  {
   "cell_type": "code",
   "execution_count": 16,
   "id": "26a7b8ae",
   "metadata": {},
   "outputs": [],
   "source": [
    "@tf.function\n",
    "def generate_gradcam_batch(imgs, model):\n",
    "    fused_heatmaps = []\n",
    "    for image in imgs:\n",
    "        heatmap = compute_gradcam_map(model, tf.expand_dims(image, axis = 0))\n",
    "        fused_heatmaps.append(heatmap)\n",
    "\n",
    "    return tf.convert_to_tensor(fused_heatmaps, tf.float32)"
   ]
  },
  {
   "cell_type": "code",
   "execution_count": 17,
   "id": "99069a0e",
   "metadata": {},
   "outputs": [],
   "source": [
    "def overlay_heatmap(heatmap, image, alpha=0.5,colormap=cv2.COLORMAP_JET):\n",
    "    heatmap = cv2.cvtColor(cv2.applyColorMap((heatmap * 255.).astype(\"uint8\"), colormap), cv2.COLOR_BGR2RGB)\n",
    "    output = cv2.addWeighted((image * 255.).astype(\"uint8\"), alpha, heatmap, 1 - alpha, 0)\n",
    "    return output"
   ]
  },
  {
   "cell_type": "markdown",
   "id": "a52e7df2",
   "metadata": {
    "id": "qrTj219eMXaS"
   },
   "source": [
    "# Train Teacher branch - DenseNet"
   ]
  },
  {
   "cell_type": "code",
   "execution_count": 18,
   "id": "dfd932d6",
   "metadata": {},
   "outputs": [],
   "source": [
    "from tensorflow.keras.applications.densenet import DenseNet121"
   ]
  },
  {
   "cell_type": "code",
   "execution_count": 19,
   "id": "3f8aa645",
   "metadata": {},
   "outputs": [],
   "source": [
    "def build_DenseNet_model():\n",
    "\n",
    "    backbone_model = DenseNet121(\n",
    "        include_top=False,\n",
    "        weights=\"imagenet\",\n",
    "        input_tensor=tf.keras.layers.Input(shape=(IMG_SIZE,IMG_SIZE,3))\n",
    "    )\n",
    "\n",
    "    pooling  = tf.keras.layers.GlobalMaxPooling2D()(backbone_model.output)\n",
    "    \n",
    "    dense = tf.keras.layers.Dense(units = 1024, kernel_regularizer= tf.keras.regularizers.l2(0.0001))(pooling)\n",
    "    batch_norm = tf.keras.layers.BatchNormalization()(dense)\n",
    "    leaky_relu = tf.keras.layers.LeakyReLU()(batch_norm)\n",
    "    \n",
    "    classifier = tf.keras.layers.Dense(units = NUM_CLASSES, activation = 'softmax')(leaky_relu)\n",
    "    model = tf.keras.models.Model(inputs = backbone_model.input, outputs = classifier)\n",
    "    optimizer = tf.keras.optimizers.Adam(learning_rate=1e-4)\n",
    "    model.compile(optimizer=optimizer,loss='categorical_crossentropy', metrics = ['accuracy'])\n",
    "    \n",
    "    # Added to improve gradcam output\n",
    "    for layer in model.layers:\n",
    "        if isinstance(layer, tf.keras.layers.ZeroPadding2D):\n",
    "            continue\n",
    "        layer.padding = \"same\"\n",
    "            \n",
    "    return model"
   ]
  },
  {
   "cell_type": "code",
   "execution_count": 20,
   "id": "e7092937",
   "metadata": {
    "id": "WkG9TRAOCXG4"
   },
   "outputs": [],
   "source": [
    "teacher_model = build_DenseNet_model()"
   ]
  },
  {
   "cell_type": "code",
   "execution_count": 21,
   "id": "ca5924ea",
   "metadata": {
    "id": "MyukpK2XbgLl",
    "scrolled": false
   },
   "outputs": [],
   "source": [
    "teacher_model.load_weights(\"models_gradcam/Teacher/160_1.021_0.691.h5\")"
   ]
  },
  {
   "cell_type": "code",
   "execution_count": null,
   "id": "fa3be8f7",
   "metadata": {
    "id": "j3t3ZF_iVriQ"
   },
   "outputs": [],
   "source": [
    "EPOCHS = 100"
   ]
  },
  {
   "cell_type": "code",
   "execution_count": null,
   "id": "514c0f00",
   "metadata": {
    "id": "Y0GmonP3WkYy"
   },
   "outputs": [],
   "source": [
    "earlystop = tf.keras.callbacks.EarlyStopping(patience=10)\n",
    "learning_rate_reduction = tf.keras.callbacks.ReduceLROnPlateau(monitor='val_accuracy', \n",
    "                                            patience=5, \n",
    "                                            verbose=1, \n",
    "                                            factor=0.2, \n",
    "                                            min_lr=1e-6)\n",
    "checkpoint = tf.keras.callbacks.ModelCheckpoint('models_gradcam/Global/best_model.h5', monitor='val_accuracy', verbose=1, \n",
    "                             save_best_only=True, mode='max', save_weights_only = True)\n",
    "mycallbacks = [earlystop, learning_rate_reduction,checkpoint]"
   ]
  },
  {
   "cell_type": "code",
   "execution_count": null,
   "id": "6acac0fc",
   "metadata": {
    "colab": {
     "base_uri": "https://localhost:8080/"
    },
    "id": "znpJlpJdMaf7",
    "outputId": "a8bd13ea-f10b-4838-9d84-95ec8c747c5f"
   },
   "outputs": [],
   "source": [
    "history = teacher_model.fit_generator(\n",
    "    training_generator,\n",
    "    epochs = EPOCHS,\n",
    "    validation_data = val_generator,\n",
    "    callbacks = mycallbacks,\n",
    "    class_weight=class_weights\n",
    ")"
   ]
  },
  {
   "cell_type": "code",
   "execution_count": null,
   "id": "3f3436d6",
   "metadata": {},
   "outputs": [],
   "source": [
    "# Plot accuracy graph\n",
    "plt.plot(history.history['accuracy'])\n",
    "plt.plot(history.history['val_accuracy'])\n",
    "plt.title('model accuracy')\n",
    "plt.ylabel('accuracy')\n",
    "plt.xlabel('epoch')\n",
    "plt.legend(['train', 'val'], loc='upper left')\n",
    "plt.show()"
   ]
  },
  {
   "cell_type": "code",
   "execution_count": null,
   "id": "ec9ce8df",
   "metadata": {},
   "outputs": [],
   "source": [
    "# Plot loss graph\n",
    "plt.plot(history.history['loss'])\n",
    "plt.plot(history.history['val_loss'])\n",
    "plt.title('model loss')\n",
    "plt.ylabel('loss')\n",
    "plt.xlabel('epoch')\n",
    "plt.legend(['train', 'val'], loc='upper left')\n",
    "plt.show()"
   ]
  },
  {
   "cell_type": "code",
   "execution_count": null,
   "id": "89cd43cf",
   "metadata": {},
   "outputs": [],
   "source": [
    "val_loss, val_accuracy = teacher_model.evaluate(val_generator)\n",
    "print(val_loss, val_accuracy)"
   ]
  },
  {
   "cell_type": "code",
   "execution_count": null,
   "id": "ce9174e6",
   "metadata": {
    "id": "v5OPw6HlOh6k"
   },
   "outputs": [],
   "source": [
    "global_model.save_weights(f\"models_gradcam/Global/190_{val_loss:.3f}_{val_accuracy:.3f}.h5\")"
   ]
  },
  {
   "cell_type": "code",
   "execution_count": null,
   "id": "c0f65553",
   "metadata": {},
   "outputs": [],
   "source": [
    "from sklearn.metrics import ConfusionMatrixDisplay\n",
    "from sklearn.metrics import confusion_matrix\n",
    "\n",
    "y_pred_all = []\n",
    "y_test_all = []\n",
    "labels = list(val_generator.class_indices.keys())\n",
    "print(labels)\n",
    "\n",
    "STEPS_PER_EPOCH = val_generator.samples//BATCH_SIZE\n",
    "for i in range(STEPS_PER_EPOCH):\n",
    "    print(f\"\\r{i}/{STEPS_PER_EPOCH}\", end = \"\")\n",
    "    x, y_test = val_generator.next()\n",
    "    y_pred = global_model(x, training=False)\n",
    "    for y in y_test:\n",
    "        y_test_all.append(tf.argmax(y))\n",
    "        \n",
    "    for y in y_pred:\n",
    "        y_pred_all.append(tf.argmax(y))\n",
    "        \n",
    "cm = confusion_matrix(y_test_all, y_pred_all)\n",
    "\n",
    "disp = ConfusionMatrixDisplay(confusion_matrix=cm, display_labels=labels)\n",
    "\n",
    "disp.plot(cmap=plt.cm.Blues)\n",
    "plt.show()"
   ]
  },
  {
   "cell_type": "markdown",
   "id": "f38edd0e",
   "metadata": {},
   "source": [
    "# Initialize student model - MobileNet"
   ]
  },
  {
   "cell_type": "code",
   "execution_count": 22,
   "id": "68d9ec76",
   "metadata": {},
   "outputs": [],
   "source": [
    "from tensorflow.keras.applications.mobilenet_v2 import MobileNetV2"
   ]
  },
  {
   "cell_type": "code",
   "execution_count": 23,
   "id": "e7c5fcc5",
   "metadata": {},
   "outputs": [],
   "source": [
    "def build_Mobilenet_model():\n",
    "    backbone_model = MobileNetV2(\n",
    "        include_top=False,\n",
    "        weights=\"imagenet\",\n",
    "        input_tensor=tf.keras.layers.Input(shape=(IMG_SIZE,IMG_SIZE,3))\n",
    "    )\n",
    "\n",
    "    pooling  = tf.keras.layers.GlobalMaxPooling2D()(backbone_model.output)\n",
    "    \n",
    "    dense = tf.keras.layers.Dense(units = 1024, kernel_regularizer= tf.keras.regularizers.l2(0.0001))(pooling)\n",
    "    batch_norm = tf.keras.layers.BatchNormalization()(dense)\n",
    "    leaky_relu = tf.keras.layers.LeakyReLU()(batch_norm)\n",
    "    \n",
    "    classifier = tf.keras.layers.Dense(units = NUM_CLASSES, activation = 'softmax')(leaky_relu)\n",
    "    model = tf.keras.models.Model(inputs = backbone_model.input, outputs = classifier)\n",
    "    optimizer = tf.keras.optimizers.Adam(learning_rate=1e-4)\n",
    "    model.compile(optimizer=optimizer,loss='categorical_crossentropy', metrics = ['accuracy'])\n",
    "    \n",
    "    # Added to improve gradcam output\n",
    "    for layer in model.layers:\n",
    "        if isinstance(layer, tf.keras.layers.ZeroPadding2D):\n",
    "            continue\n",
    "        layer.padding = \"same\"\n",
    "            \n",
    "    return model"
   ]
  },
  {
   "cell_type": "code",
   "execution_count": 24,
   "id": "6c4a8b96",
   "metadata": {},
   "outputs": [],
   "source": [
    "def dist_loss(map1, map2):\n",
    "    return tf.reduce_mean(tf.keras.losses.mean_squared_error(map1, map2))"
   ]
  },
  {
   "cell_type": "code",
   "execution_count": 31,
   "id": "809967b7",
   "metadata": {},
   "outputs": [],
   "source": [
    "class Distiller(tf.keras.Model):\n",
    "    def __init__(self, student):\n",
    "        super().__init__()\n",
    "#         self.teacher = teacher\n",
    "        self.student = student\n",
    "\n",
    "    def compile(\n",
    "        self,\n",
    "        optimizer,\n",
    "        metrics,\n",
    "        student_loss_fn,\n",
    "        distillation_loss_fn,\n",
    "        alpha=0.1,\n",
    "    ):\n",
    "        \"\"\" Configure the distiller.\n",
    "\n",
    "        Args:\n",
    "            optimizer: Keras optimizer for the student weights\n",
    "            metrics: Keras metrics for evaluation\n",
    "            student_loss_fn: Loss function of difference between student\n",
    "                predictions and ground-truth\n",
    "            distillation_loss_fn: Loss function of difference between soft\n",
    "                student predictions and soft teacher predictions\n",
    "            alpha: weight to student_loss_fn and 1-alpha to distillation_loss_fn\n",
    "            temperature: Temperature for softening probability distributions.\n",
    "                Larger temperature gives softer distributions.\n",
    "        \"\"\"\n",
    "        super().compile(optimizer=optimizer, metrics=metrics)\n",
    "        self.student_loss_fn = student_loss_fn\n",
    "        self.distillation_loss_fn = distillation_loss_fn\n",
    "        self.alpha = alpha\n",
    "        \n",
    "    def train_step(self, data):\n",
    "        # Unpack data\n",
    "        # Ignoring sample weights here (consider later if possible)\n",
    "        x, y, sample_weights = data        \n",
    "\n",
    "        # Forward pass of teacher\n",
    "        maps_teacher = generate_gradcam_batch(x, teacher_model) # Using the global teacher variable\n",
    "\n",
    "        with tf.GradientTape() as tape:\n",
    "            # Forward pass of student\n",
    "            student_predictions = self.student(x, training=True)\n",
    "            maps_student = generate_gradcam_batch(x, self.student)\n",
    "\n",
    "            # Compute losses\n",
    "            student_loss = self.student_loss_fn(y, student_predictions)\n",
    "\n",
    "            # Compute scaled distillation loss from https://arxiv.org/abs/1503.02531\n",
    "            # The magnitudes of the gradients produced by the soft targets scale\n",
    "            # as 1/T^2, multiply them by T^2 when using both hard and soft targets.\n",
    "            distillation_loss = tf.convert_to_tensor([self.distillation_loss_fn(a, b) for (a, b) in zip(maps_teacher, maps_student)])\n",
    "\n",
    "            loss = self.alpha * student_loss + (1 - self.alpha) * distillation_loss\n",
    "\n",
    "        # Compute gradients\n",
    "        trainable_vars = self.student.trainable_variables\n",
    "        gradients = tape.gradient(loss, trainable_vars)\n",
    "\n",
    "        # Update weights\n",
    "        self.optimizer.apply_gradients(zip(gradients, trainable_vars))\n",
    "\n",
    "        # Update the metrics configured in `compile()`.\n",
    "        self.compiled_metrics.update_state(y, student_predictions)\n",
    "\n",
    "        # Return a dict of performance\n",
    "        results = {m.name: m.result() for m in self.metrics}\n",
    "        results.update(\n",
    "            {\"student_loss\": student_loss, \"distillation_loss\": distillation_loss}\n",
    "        )\n",
    "        return results\n",
    "\n",
    "    def test_step(self, data):\n",
    "        # Unpack the data\n",
    "        x, y = data\n",
    "\n",
    "        # Compute predictions\n",
    "        y_prediction = self.student(x, training=False)\n",
    "\n",
    "        # Calculate the loss\n",
    "        student_loss = self.student_loss_fn(y, y_prediction)\n",
    "\n",
    "        # Update the metrics.\n",
    "        self.compiled_metrics.update_state(y, y_prediction)\n",
    "\n",
    "        # Return a dict of performance\n",
    "        results = {m.name: m.result() for m in self.metrics}\n",
    "        results.update({\"student_loss\": student_loss})\n",
    "        return results\n",
    "    \n",
    "#     def save_weights(filepath, **kwargs):\n",
    "#         self.student.save_weights(filepath)"
   ]
  },
  {
   "cell_type": "code",
   "execution_count": 32,
   "id": "eb9a7b24",
   "metadata": {},
   "outputs": [
    {
     "name": "stdout",
     "output_type": "stream",
     "text": [
      "WARNING:tensorflow:`input_shape` is undefined or non-square, or `rows` is not in [96, 128, 160, 192, 224]. Weights for input shape (224, 224) will be loaded as the default.\n"
     ]
    }
   ],
   "source": [
    "student_model = build_Mobilenet_model()"
   ]
  },
  {
   "cell_type": "code",
   "execution_count": 35,
   "id": "63c51e69",
   "metadata": {},
   "outputs": [],
   "source": [
    "distiller = Distiller(student=student_model)\n",
    "distiller.compile(\n",
    "    optimizer=tf.keras.optimizers.Adam(learning_rate=1e-4),\n",
    "    metrics=['accuracy'],\n",
    "    student_loss_fn=tf.keras.losses.CategoricalCrossentropy(),\n",
    "    distillation_loss_fn=dist_loss,\n",
    "    alpha=0.5,\n",
    ")"
   ]
  },
  {
   "cell_type": "code",
   "execution_count": 34,
   "id": "16234540",
   "metadata": {},
   "outputs": [
    {
     "ename": "ValueError",
     "evalue": "Unable to load weights saved in HDF5 format into a subclassed Model which has not created its variables yet. Call the Model first, then load the weights.",
     "output_type": "error",
     "traceback": [
      "\u001b[1;31m---------------------------------------------------------------------------\u001b[0m",
      "\u001b[1;31mValueError\u001b[0m                                Traceback (most recent call last)",
      "Input \u001b[1;32mIn [34]\u001b[0m, in \u001b[0;36m<cell line: 1>\u001b[1;34m()\u001b[0m\n\u001b[1;32m----> 1\u001b[0m \u001b[43mdistiller\u001b[49m\u001b[38;5;241;43m.\u001b[39;49m\u001b[43mload_weights\u001b[49m\u001b[43m(\u001b[49m\u001b[38;5;124;43m\"\u001b[39;49m\u001b[38;5;124;43mmodels_gradcam/Student/32_0.276_0.657.h5\u001b[39;49m\u001b[38;5;124;43m\"\u001b[39;49m\u001b[43m)\u001b[49m\n",
      "File \u001b[1;32m~\\AppData\\Roaming\\Python\\Python310\\site-packages\\keras\\utils\\traceback_utils.py:70\u001b[0m, in \u001b[0;36mfilter_traceback.<locals>.error_handler\u001b[1;34m(*args, **kwargs)\u001b[0m\n\u001b[0;32m     67\u001b[0m     filtered_tb \u001b[38;5;241m=\u001b[39m _process_traceback_frames(e\u001b[38;5;241m.\u001b[39m__traceback__)\n\u001b[0;32m     68\u001b[0m     \u001b[38;5;66;03m# To get the full stack trace, call:\u001b[39;00m\n\u001b[0;32m     69\u001b[0m     \u001b[38;5;66;03m# `tf.debugging.disable_traceback_filtering()`\u001b[39;00m\n\u001b[1;32m---> 70\u001b[0m     \u001b[38;5;28;01mraise\u001b[39;00m e\u001b[38;5;241m.\u001b[39mwith_traceback(filtered_tb) \u001b[38;5;28;01mfrom\u001b[39;00m \u001b[38;5;28mNone\u001b[39m\n\u001b[0;32m     71\u001b[0m \u001b[38;5;28;01mfinally\u001b[39;00m:\n\u001b[0;32m     72\u001b[0m     \u001b[38;5;28;01mdel\u001b[39;00m filtered_tb\n",
      "File \u001b[1;32m~\\AppData\\Roaming\\Python\\Python310\\site-packages\\keras\\engine\\training.py:2925\u001b[0m, in \u001b[0;36mModel.load_weights\u001b[1;34m(self, filepath, by_name, skip_mismatch, options)\u001b[0m\n\u001b[0;32m   2920\u001b[0m     \u001b[38;5;28;01mraise\u001b[39;00m \u001b[38;5;167;01mImportError\u001b[39;00m(\n\u001b[0;32m   2921\u001b[0m         \u001b[38;5;124m\"\u001b[39m\u001b[38;5;124m`load_weights` requires h5py package when loading weights \u001b[39m\u001b[38;5;124m\"\u001b[39m\n\u001b[0;32m   2922\u001b[0m         \u001b[38;5;124m\"\u001b[39m\u001b[38;5;124mfrom HDF5. Try installing h5py.\u001b[39m\u001b[38;5;124m\"\u001b[39m\n\u001b[0;32m   2923\u001b[0m     )\n\u001b[0;32m   2924\u001b[0m \u001b[38;5;28;01mif\u001b[39;00m \u001b[38;5;129;01mnot\u001b[39;00m \u001b[38;5;28mself\u001b[39m\u001b[38;5;241m.\u001b[39m_is_graph_network \u001b[38;5;129;01mand\u001b[39;00m \u001b[38;5;129;01mnot\u001b[39;00m \u001b[38;5;28mself\u001b[39m\u001b[38;5;241m.\u001b[39mbuilt:\n\u001b[1;32m-> 2925\u001b[0m     \u001b[38;5;28;01mraise\u001b[39;00m \u001b[38;5;167;01mValueError\u001b[39;00m(\n\u001b[0;32m   2926\u001b[0m         \u001b[38;5;124m\"\u001b[39m\u001b[38;5;124mUnable to load weights saved in HDF5 format into a \u001b[39m\u001b[38;5;124m\"\u001b[39m\n\u001b[0;32m   2927\u001b[0m         \u001b[38;5;124m\"\u001b[39m\u001b[38;5;124msubclassed Model which has not created its variables yet. \u001b[39m\u001b[38;5;124m\"\u001b[39m\n\u001b[0;32m   2928\u001b[0m         \u001b[38;5;124m\"\u001b[39m\u001b[38;5;124mCall the Model first, then load the weights.\u001b[39m\u001b[38;5;124m\"\u001b[39m\n\u001b[0;32m   2929\u001b[0m     )\n\u001b[0;32m   2930\u001b[0m \u001b[38;5;28mself\u001b[39m\u001b[38;5;241m.\u001b[39m_assert_weights_created()\n\u001b[0;32m   2931\u001b[0m \u001b[38;5;28;01mwith\u001b[39;00m h5py\u001b[38;5;241m.\u001b[39mFile(filepath, \u001b[38;5;124m\"\u001b[39m\u001b[38;5;124mr\u001b[39m\u001b[38;5;124m\"\u001b[39m) \u001b[38;5;28;01mas\u001b[39;00m f:\n",
      "\u001b[1;31mValueError\u001b[0m: Unable to load weights saved in HDF5 format into a subclassed Model which has not created its variables yet. Call the Model first, then load the weights."
     ]
    }
   ],
   "source": [
    "distiller.load_weights(\"models_gradcam/Student/32_0.276_0.657.h5\")"
   ]
  },
  {
   "cell_type": "code",
   "execution_count": 36,
   "id": "48fff9c5",
   "metadata": {
    "id": "j3t3ZF_iVriQ"
   },
   "outputs": [],
   "source": [
    "EPOCHS = 100"
   ]
  },
  {
   "cell_type": "code",
   "execution_count": 37,
   "id": "cf2255ed",
   "metadata": {
    "id": "Y0GmonP3WkYy"
   },
   "outputs": [],
   "source": [
    "earlystop = tf.keras.callbacks.EarlyStopping(patience=10)\n",
    "learning_rate_reduction = tf.keras.callbacks.ReduceLROnPlateau(monitor='val_accuracy', \n",
    "                                            patience=5, \n",
    "                                            verbose=1, \n",
    "                                            factor=0.2, \n",
    "                                            min_lr=1e-6)\n",
    "checkpoint = tf.keras.callbacks.ModelCheckpoint('models_gradcam/Student/{epoch:02d}_{val_student_loss:.3f}_{val_accuracy:.3f}.h5', monitor='val_accuracy', verbose=1, \n",
    "                             mode='max', save_weights_only = True)\n",
    "mycallbacks = [earlystop, learning_rate_reduction,checkpoint]\n",
    "mycallbacks = [learning_rate_reduction,checkpoint]"
   ]
  },
  {
   "cell_type": "code",
   "execution_count": 38,
   "id": "11ac08c6",
   "metadata": {
    "colab": {
     "base_uri": "https://localhost:8080/"
    },
    "id": "znpJlpJdMaf7",
    "outputId": "a8bd13ea-f10b-4838-9d84-95ec8c747c5f"
   },
   "outputs": [
    {
     "name": "stdout",
     "output_type": "stream",
     "text": [
      "Epoch 1/100\n"
     ]
    },
    {
     "name": "stderr",
     "output_type": "stream",
     "text": [
      "C:\\Users\\vaash\\AppData\\Local\\Temp\\ipykernel_24416\\2275153029.py:1: UserWarning: `Model.fit_generator` is deprecated and will be removed in a future version. Please use `Model.fit`, which supports generators.\n",
      "  history = distiller.fit_generator(\n"
     ]
    },
    {
     "name": "stdout",
     "output_type": "stream",
     "text": [
      "459/459 [==============================] - ETA: 0s - accuracy: 0.1580 - student_loss: 5.5047 - distillation_loss: 0.0985\n",
      "Epoch 1: saving model to models_gradcam/Student\\01_4.448_0.093.h5\n",
      "459/459 [==============================] - 964s 2s/step - accuracy: 0.1580 - student_loss: 5.4948 - distillation_loss: 0.0985 - val_accuracy: 0.0935 - val_student_loss: 4.4484 - lr: 1.0000e-04\n",
      "Epoch 2/100\n",
      "459/459 [==============================] - ETA: 0s - accuracy: 0.1797 - student_loss: 3.8086 - distillation_loss: 0.1023\n",
      "Epoch 2: saving model to models_gradcam/Student\\02_4.285_0.070.h5\n",
      "459/459 [==============================] - 975s 2s/step - accuracy: 0.1797 - student_loss: 3.8111 - distillation_loss: 0.1023 - val_accuracy: 0.0696 - val_student_loss: 4.2846 - lr: 1.0000e-04\n",
      "Epoch 3/100\n",
      "459/459 [==============================] - ETA: 0s - accuracy: 0.1944 - student_loss: 5.5045 - distillation_loss: 0.1036\n",
      "Epoch 3: saving model to models_gradcam/Student\\03_12.216_0.117.h5\n",
      "459/459 [==============================] - 1000s 2s/step - accuracy: 0.1944 - student_loss: 5.4931 - distillation_loss: 0.1036 - val_accuracy: 0.1174 - val_student_loss: 12.2165 - lr: 1.0000e-04\n",
      "Epoch 4/100\n",
      "459/459 [==============================] - ETA: 0s - accuracy: 0.1781 - student_loss: 6.7491 - distillation_loss: 0.0990\n",
      "Epoch 4: saving model to models_gradcam/Student\\04_4.614_0.046.h5\n",
      "459/459 [==============================] - 970s 2s/step - accuracy: 0.1781 - student_loss: 6.7695 - distillation_loss: 0.0990 - val_accuracy: 0.0457 - val_student_loss: 4.6138 - lr: 1.0000e-04\n",
      "Epoch 5/100\n",
      "459/459 [==============================] - ETA: 0s - accuracy: 0.1857 - student_loss: 6.5634 - distillation_loss: 0.0993\n",
      "Epoch 5: saving model to models_gradcam/Student\\05_4.140_0.033.h5\n",
      "459/459 [==============================] - 959s 2s/step - accuracy: 0.1857 - student_loss: 6.5584 - distillation_loss: 0.0993 - val_accuracy: 0.0326 - val_student_loss: 4.1396 - lr: 1.0000e-04\n",
      "Epoch 6/100\n",
      "459/459 [==============================] - ETA: 0s - accuracy: 0.1993 - student_loss: 4.6593 - distillation_loss: 0.0974\n",
      "Epoch 6: saving model to models_gradcam/Student\\06_8.860_0.222.h5\n",
      "459/459 [==============================] - 985s 2s/step - accuracy: 0.1993 - student_loss: 4.6602 - distillation_loss: 0.0974 - val_accuracy: 0.2217 - val_student_loss: 8.8597 - lr: 1.0000e-04\n",
      "Epoch 7/100\n",
      "459/459 [==============================] - ETA: 0s - accuracy: 0.1890 - student_loss: 4.2335 - distillation_loss: 0.0994\n",
      "Epoch 7: saving model to models_gradcam/Student\\07_0.329_0.302.h5\n",
      "459/459 [==============================] - 1048s 2s/step - accuracy: 0.1890 - student_loss: 4.2269 - distillation_loss: 0.0994 - val_accuracy: 0.3022 - val_student_loss: 0.3292 - lr: 1.0000e-04\n",
      "Epoch 8/100\n",
      "459/459 [==============================] - ETA: 0s - accuracy: 0.1808 - student_loss: 4.0877 - distillation_loss: 0.1250\n",
      "Epoch 8: saving model to models_gradcam/Student\\08_0.653_0.267.h5\n",
      "459/459 [==============================] - 1018s 2s/step - accuracy: 0.1808 - student_loss: 4.0798 - distillation_loss: 0.1249 - val_accuracy: 0.2674 - val_student_loss: 0.6534 - lr: 1.0000e-04\n",
      "Epoch 9/100\n",
      "459/459 [==============================] - ETA: 0s - accuracy: 0.2092 - student_loss: 3.0987 - distillation_loss: 0.1041\n",
      "Epoch 9: saving model to models_gradcam/Student\\09_0.277_0.237.h5\n",
      "459/459 [==============================] - 995s 2s/step - accuracy: 0.2092 - student_loss: 3.0941 - distillation_loss: 0.1042 - val_accuracy: 0.2370 - val_student_loss: 0.2766 - lr: 1.0000e-04\n",
      "Epoch 10/100\n",
      "459/459 [==============================] - ETA: 0s - accuracy: 0.1776 - student_loss: 3.2310 - distillation_loss: 0.1075\n",
      "Epoch 10: saving model to models_gradcam/Student\\10_4.053_0.302.h5\n",
      "459/459 [==============================] - 1030s 2s/step - accuracy: 0.1776 - student_loss: 3.2329 - distillation_loss: 0.1076 - val_accuracy: 0.3022 - val_student_loss: 4.0527 - lr: 1.0000e-04\n",
      "Epoch 11/100\n",
      "459/459 [==============================] - ETA: 0s - accuracy: 0.1786 - student_loss: 4.7288 - distillation_loss: 0.1071\n",
      "Epoch 11: saving model to models_gradcam/Student\\11_12.178_0.204.h5\n",
      "459/459 [==============================] - 1009s 2s/step - accuracy: 0.1786 - student_loss: 4.7362 - distillation_loss: 0.1070 - val_accuracy: 0.2043 - val_student_loss: 12.1776 - lr: 1.0000e-04\n",
      "Epoch 12/100\n",
      "459/459 [==============================] - ETA: 0s - accuracy: 0.1514 - student_loss: 5.1675 - distillation_loss: 0.1077 \n",
      "Epoch 12: ReduceLROnPlateau reducing learning rate to 1.9999999494757503e-05.\n",
      "\n",
      "Epoch 12: saving model to models_gradcam/Student\\12_8.534_0.224.h5\n",
      "459/459 [==============================] - 5152s 11s/step - accuracy: 0.1514 - student_loss: 5.1585 - distillation_loss: 0.1078 - val_accuracy: 0.2239 - val_student_loss: 8.5341 - lr: 1.0000e-04\n",
      "Epoch 13/100\n",
      "105/459 [=====>........................] - ETA: 12:12 - accuracy: 0.1548 - student_loss: 4.1653 - distillation_loss: 0.1088"
     ]
    },
    {
     "ename": "KeyboardInterrupt",
     "evalue": "",
     "output_type": "error",
     "traceback": [
      "\u001b[1;31m---------------------------------------------------------------------------\u001b[0m",
      "\u001b[1;31mKeyboardInterrupt\u001b[0m                         Traceback (most recent call last)",
      "Input \u001b[1;32mIn [38]\u001b[0m, in \u001b[0;36m<cell line: 1>\u001b[1;34m()\u001b[0m\n\u001b[1;32m----> 1\u001b[0m history \u001b[38;5;241m=\u001b[39m \u001b[43mdistiller\u001b[49m\u001b[38;5;241;43m.\u001b[39;49m\u001b[43mfit_generator\u001b[49m\u001b[43m(\u001b[49m\n\u001b[0;32m      2\u001b[0m \u001b[43m    \u001b[49m\u001b[43mtraining_generator\u001b[49m\u001b[43m,\u001b[49m\n\u001b[0;32m      3\u001b[0m \u001b[38;5;66;43;03m#     steps_per_epoch=1,\u001b[39;49;00m\n\u001b[0;32m      4\u001b[0m \u001b[38;5;66;43;03m#     validation_steps=1,\u001b[39;49;00m\n\u001b[0;32m      5\u001b[0m \u001b[43m    \u001b[49m\u001b[43mepochs\u001b[49m\u001b[43m \u001b[49m\u001b[38;5;241;43m=\u001b[39;49m\u001b[43m \u001b[49m\u001b[43mEPOCHS\u001b[49m\u001b[43m,\u001b[49m\n\u001b[0;32m      6\u001b[0m \u001b[38;5;66;43;03m#     initial_epoch=32,\u001b[39;49;00m\n\u001b[0;32m      7\u001b[0m \u001b[43m    \u001b[49m\u001b[43mvalidation_data\u001b[49m\u001b[43m \u001b[49m\u001b[38;5;241;43m=\u001b[39;49m\u001b[43m \u001b[49m\u001b[43mval_generator\u001b[49m\u001b[43m,\u001b[49m\n\u001b[0;32m      8\u001b[0m \u001b[43m    \u001b[49m\u001b[43mcallbacks\u001b[49m\u001b[43m \u001b[49m\u001b[38;5;241;43m=\u001b[39;49m\u001b[43m \u001b[49m\u001b[43mmycallbacks\u001b[49m\u001b[43m,\u001b[49m\n\u001b[0;32m      9\u001b[0m \u001b[43m    \u001b[49m\u001b[43mclass_weight\u001b[49m\u001b[38;5;241;43m=\u001b[39;49m\u001b[43mclass_weights\u001b[49m\n\u001b[0;32m     10\u001b[0m \u001b[43m)\u001b[49m\n",
      "File \u001b[1;32m~\\AppData\\Roaming\\Python\\Python310\\site-packages\\keras\\engine\\training.py:2507\u001b[0m, in \u001b[0;36mModel.fit_generator\u001b[1;34m(self, generator, steps_per_epoch, epochs, verbose, callbacks, validation_data, validation_steps, validation_freq, class_weight, max_queue_size, workers, use_multiprocessing, shuffle, initial_epoch)\u001b[0m\n\u001b[0;32m   2495\u001b[0m \u001b[38;5;124;03m\"\"\"Fits the model on data yielded batch-by-batch by a Python generator.\u001b[39;00m\n\u001b[0;32m   2496\u001b[0m \n\u001b[0;32m   2497\u001b[0m \u001b[38;5;124;03mDEPRECATED:\u001b[39;00m\n\u001b[0;32m   2498\u001b[0m \u001b[38;5;124;03m  `Model.fit` now supports generators, so there is no longer any need to\u001b[39;00m\n\u001b[0;32m   2499\u001b[0m \u001b[38;5;124;03m  use this endpoint.\u001b[39;00m\n\u001b[0;32m   2500\u001b[0m \u001b[38;5;124;03m\"\"\"\u001b[39;00m\n\u001b[0;32m   2501\u001b[0m warnings\u001b[38;5;241m.\u001b[39mwarn(\n\u001b[0;32m   2502\u001b[0m     \u001b[38;5;124m\"\u001b[39m\u001b[38;5;124m`Model.fit_generator` is deprecated and \u001b[39m\u001b[38;5;124m\"\u001b[39m\n\u001b[0;32m   2503\u001b[0m     \u001b[38;5;124m\"\u001b[39m\u001b[38;5;124mwill be removed in a future version. \u001b[39m\u001b[38;5;124m\"\u001b[39m\n\u001b[0;32m   2504\u001b[0m     \u001b[38;5;124m\"\u001b[39m\u001b[38;5;124mPlease use `Model.fit`, which supports generators.\u001b[39m\u001b[38;5;124m\"\u001b[39m,\n\u001b[0;32m   2505\u001b[0m     stacklevel\u001b[38;5;241m=\u001b[39m\u001b[38;5;241m2\u001b[39m,\n\u001b[0;32m   2506\u001b[0m )\n\u001b[1;32m-> 2507\u001b[0m \u001b[38;5;28;01mreturn\u001b[39;00m \u001b[38;5;28;43mself\u001b[39;49m\u001b[38;5;241;43m.\u001b[39;49m\u001b[43mfit\u001b[49m\u001b[43m(\u001b[49m\n\u001b[0;32m   2508\u001b[0m \u001b[43m    \u001b[49m\u001b[43mgenerator\u001b[49m\u001b[43m,\u001b[49m\n\u001b[0;32m   2509\u001b[0m \u001b[43m    \u001b[49m\u001b[43msteps_per_epoch\u001b[49m\u001b[38;5;241;43m=\u001b[39;49m\u001b[43msteps_per_epoch\u001b[49m\u001b[43m,\u001b[49m\n\u001b[0;32m   2510\u001b[0m \u001b[43m    \u001b[49m\u001b[43mepochs\u001b[49m\u001b[38;5;241;43m=\u001b[39;49m\u001b[43mepochs\u001b[49m\u001b[43m,\u001b[49m\n\u001b[0;32m   2511\u001b[0m \u001b[43m    \u001b[49m\u001b[43mverbose\u001b[49m\u001b[38;5;241;43m=\u001b[39;49m\u001b[43mverbose\u001b[49m\u001b[43m,\u001b[49m\n\u001b[0;32m   2512\u001b[0m \u001b[43m    \u001b[49m\u001b[43mcallbacks\u001b[49m\u001b[38;5;241;43m=\u001b[39;49m\u001b[43mcallbacks\u001b[49m\u001b[43m,\u001b[49m\n\u001b[0;32m   2513\u001b[0m \u001b[43m    \u001b[49m\u001b[43mvalidation_data\u001b[49m\u001b[38;5;241;43m=\u001b[39;49m\u001b[43mvalidation_data\u001b[49m\u001b[43m,\u001b[49m\n\u001b[0;32m   2514\u001b[0m \u001b[43m    \u001b[49m\u001b[43mvalidation_steps\u001b[49m\u001b[38;5;241;43m=\u001b[39;49m\u001b[43mvalidation_steps\u001b[49m\u001b[43m,\u001b[49m\n\u001b[0;32m   2515\u001b[0m \u001b[43m    \u001b[49m\u001b[43mvalidation_freq\u001b[49m\u001b[38;5;241;43m=\u001b[39;49m\u001b[43mvalidation_freq\u001b[49m\u001b[43m,\u001b[49m\n\u001b[0;32m   2516\u001b[0m \u001b[43m    \u001b[49m\u001b[43mclass_weight\u001b[49m\u001b[38;5;241;43m=\u001b[39;49m\u001b[43mclass_weight\u001b[49m\u001b[43m,\u001b[49m\n\u001b[0;32m   2517\u001b[0m \u001b[43m    \u001b[49m\u001b[43mmax_queue_size\u001b[49m\u001b[38;5;241;43m=\u001b[39;49m\u001b[43mmax_queue_size\u001b[49m\u001b[43m,\u001b[49m\n\u001b[0;32m   2518\u001b[0m \u001b[43m    \u001b[49m\u001b[43mworkers\u001b[49m\u001b[38;5;241;43m=\u001b[39;49m\u001b[43mworkers\u001b[49m\u001b[43m,\u001b[49m\n\u001b[0;32m   2519\u001b[0m \u001b[43m    \u001b[49m\u001b[43muse_multiprocessing\u001b[49m\u001b[38;5;241;43m=\u001b[39;49m\u001b[43muse_multiprocessing\u001b[49m\u001b[43m,\u001b[49m\n\u001b[0;32m   2520\u001b[0m \u001b[43m    \u001b[49m\u001b[43mshuffle\u001b[49m\u001b[38;5;241;43m=\u001b[39;49m\u001b[43mshuffle\u001b[49m\u001b[43m,\u001b[49m\n\u001b[0;32m   2521\u001b[0m \u001b[43m    \u001b[49m\u001b[43minitial_epoch\u001b[49m\u001b[38;5;241;43m=\u001b[39;49m\u001b[43minitial_epoch\u001b[49m\u001b[43m,\u001b[49m\n\u001b[0;32m   2522\u001b[0m \u001b[43m\u001b[49m\u001b[43m)\u001b[49m\n",
      "File \u001b[1;32m~\\AppData\\Roaming\\Python\\Python310\\site-packages\\keras\\utils\\traceback_utils.py:65\u001b[0m, in \u001b[0;36mfilter_traceback.<locals>.error_handler\u001b[1;34m(*args, **kwargs)\u001b[0m\n\u001b[0;32m     63\u001b[0m filtered_tb \u001b[38;5;241m=\u001b[39m \u001b[38;5;28;01mNone\u001b[39;00m\n\u001b[0;32m     64\u001b[0m \u001b[38;5;28;01mtry\u001b[39;00m:\n\u001b[1;32m---> 65\u001b[0m     \u001b[38;5;28;01mreturn\u001b[39;00m fn(\u001b[38;5;241m*\u001b[39margs, \u001b[38;5;241m*\u001b[39m\u001b[38;5;241m*\u001b[39mkwargs)\n\u001b[0;32m     66\u001b[0m \u001b[38;5;28;01mexcept\u001b[39;00m \u001b[38;5;167;01mException\u001b[39;00m \u001b[38;5;28;01mas\u001b[39;00m e:\n\u001b[0;32m     67\u001b[0m     filtered_tb \u001b[38;5;241m=\u001b[39m _process_traceback_frames(e\u001b[38;5;241m.\u001b[39m__traceback__)\n",
      "File \u001b[1;32m~\\AppData\\Roaming\\Python\\Python310\\site-packages\\keras\\engine\\training.py:1564\u001b[0m, in \u001b[0;36mModel.fit\u001b[1;34m(self, x, y, batch_size, epochs, verbose, callbacks, validation_split, validation_data, shuffle, class_weight, sample_weight, initial_epoch, steps_per_epoch, validation_steps, validation_batch_size, validation_freq, max_queue_size, workers, use_multiprocessing)\u001b[0m\n\u001b[0;32m   1556\u001b[0m \u001b[38;5;28;01mwith\u001b[39;00m tf\u001b[38;5;241m.\u001b[39mprofiler\u001b[38;5;241m.\u001b[39mexperimental\u001b[38;5;241m.\u001b[39mTrace(\n\u001b[0;32m   1557\u001b[0m     \u001b[38;5;124m\"\u001b[39m\u001b[38;5;124mtrain\u001b[39m\u001b[38;5;124m\"\u001b[39m,\n\u001b[0;32m   1558\u001b[0m     epoch_num\u001b[38;5;241m=\u001b[39mepoch,\n\u001b[1;32m   (...)\u001b[0m\n\u001b[0;32m   1561\u001b[0m     _r\u001b[38;5;241m=\u001b[39m\u001b[38;5;241m1\u001b[39m,\n\u001b[0;32m   1562\u001b[0m ):\n\u001b[0;32m   1563\u001b[0m     callbacks\u001b[38;5;241m.\u001b[39mon_train_batch_begin(step)\n\u001b[1;32m-> 1564\u001b[0m     tmp_logs \u001b[38;5;241m=\u001b[39m \u001b[38;5;28;43mself\u001b[39;49m\u001b[38;5;241;43m.\u001b[39;49m\u001b[43mtrain_function\u001b[49m\u001b[43m(\u001b[49m\u001b[43miterator\u001b[49m\u001b[43m)\u001b[49m\n\u001b[0;32m   1565\u001b[0m     \u001b[38;5;28;01mif\u001b[39;00m data_handler\u001b[38;5;241m.\u001b[39mshould_sync:\n\u001b[0;32m   1566\u001b[0m         context\u001b[38;5;241m.\u001b[39masync_wait()\n",
      "File \u001b[1;32m~\\AppData\\Roaming\\Python\\Python310\\site-packages\\keras\\engine\\training.py:1160\u001b[0m, in \u001b[0;36mModel.make_train_function.<locals>.train_function\u001b[1;34m(iterator)\u001b[0m\n\u001b[0;32m   1158\u001b[0m \u001b[38;5;28;01mdef\u001b[39;00m \u001b[38;5;21mtrain_function\u001b[39m(iterator):\n\u001b[0;32m   1159\u001b[0m     \u001b[38;5;124;03m\"\"\"Runs a training execution with a single step.\"\"\"\u001b[39;00m\n\u001b[1;32m-> 1160\u001b[0m     \u001b[38;5;28;01mreturn\u001b[39;00m \u001b[43mstep_function\u001b[49m\u001b[43m(\u001b[49m\u001b[38;5;28;43mself\u001b[39;49m\u001b[43m,\u001b[49m\u001b[43m \u001b[49m\u001b[43miterator\u001b[49m\u001b[43m)\u001b[49m\n",
      "File \u001b[1;32m~\\AppData\\Roaming\\Python\\Python310\\site-packages\\keras\\engine\\training.py:1146\u001b[0m, in \u001b[0;36mModel.make_train_function.<locals>.step_function\u001b[1;34m(model, iterator)\u001b[0m\n\u001b[0;32m   1142\u001b[0m     run_step \u001b[38;5;241m=\u001b[39m tf\u001b[38;5;241m.\u001b[39mfunction(\n\u001b[0;32m   1143\u001b[0m         run_step, jit_compile\u001b[38;5;241m=\u001b[39m\u001b[38;5;28;01mTrue\u001b[39;00m, reduce_retracing\u001b[38;5;241m=\u001b[39m\u001b[38;5;28;01mTrue\u001b[39;00m\n\u001b[0;32m   1144\u001b[0m     )\n\u001b[0;32m   1145\u001b[0m data \u001b[38;5;241m=\u001b[39m \u001b[38;5;28mnext\u001b[39m(iterator)\n\u001b[1;32m-> 1146\u001b[0m outputs \u001b[38;5;241m=\u001b[39m \u001b[43mmodel\u001b[49m\u001b[38;5;241;43m.\u001b[39;49m\u001b[43mdistribute_strategy\u001b[49m\u001b[38;5;241;43m.\u001b[39;49m\u001b[43mrun\u001b[49m\u001b[43m(\u001b[49m\u001b[43mrun_step\u001b[49m\u001b[43m,\u001b[49m\u001b[43m \u001b[49m\u001b[43margs\u001b[49m\u001b[38;5;241;43m=\u001b[39;49m\u001b[43m(\u001b[49m\u001b[43mdata\u001b[49m\u001b[43m,\u001b[49m\u001b[43m)\u001b[49m\u001b[43m)\u001b[49m\n\u001b[0;32m   1147\u001b[0m outputs \u001b[38;5;241m=\u001b[39m reduce_per_replica(\n\u001b[0;32m   1148\u001b[0m     outputs, \u001b[38;5;28mself\u001b[39m\u001b[38;5;241m.\u001b[39mdistribute_strategy, reduction\u001b[38;5;241m=\u001b[39m\u001b[38;5;124m\"\u001b[39m\u001b[38;5;124mfirst\u001b[39m\u001b[38;5;124m\"\u001b[39m\n\u001b[0;32m   1149\u001b[0m )\n\u001b[0;32m   1150\u001b[0m \u001b[38;5;28;01mreturn\u001b[39;00m outputs\n",
      "File \u001b[1;32m~\\AppData\\Roaming\\Python\\Python310\\site-packages\\tensorflow\\python\\distribute\\distribute_lib.py:1315\u001b[0m, in \u001b[0;36mStrategyBase.run\u001b[1;34m(***failed resolving arguments***)\u001b[0m\n\u001b[0;32m   1310\u001b[0m \u001b[38;5;28;01mwith\u001b[39;00m \u001b[38;5;28mself\u001b[39m\u001b[38;5;241m.\u001b[39mscope():\n\u001b[0;32m   1311\u001b[0m   \u001b[38;5;66;03m# tf.distribute supports Eager functions, so AutoGraph should not be\u001b[39;00m\n\u001b[0;32m   1312\u001b[0m   \u001b[38;5;66;03m# applied when the caller is also in Eager mode.\u001b[39;00m\n\u001b[0;32m   1313\u001b[0m   fn \u001b[38;5;241m=\u001b[39m autograph\u001b[38;5;241m.\u001b[39mtf_convert(\n\u001b[0;32m   1314\u001b[0m       fn, autograph_ctx\u001b[38;5;241m.\u001b[39mcontrol_status_ctx(), convert_by_default\u001b[38;5;241m=\u001b[39m\u001b[38;5;28;01mFalse\u001b[39;00m)\n\u001b[1;32m-> 1315\u001b[0m   \u001b[38;5;28;01mreturn\u001b[39;00m \u001b[38;5;28;43mself\u001b[39;49m\u001b[38;5;241;43m.\u001b[39;49m\u001b[43m_extended\u001b[49m\u001b[38;5;241;43m.\u001b[39;49m\u001b[43mcall_for_each_replica\u001b[49m\u001b[43m(\u001b[49m\u001b[43mfn\u001b[49m\u001b[43m,\u001b[49m\u001b[43m \u001b[49m\u001b[43margs\u001b[49m\u001b[38;5;241;43m=\u001b[39;49m\u001b[43margs\u001b[49m\u001b[43m,\u001b[49m\u001b[43m \u001b[49m\u001b[43mkwargs\u001b[49m\u001b[38;5;241;43m=\u001b[39;49m\u001b[43mkwargs\u001b[49m\u001b[43m)\u001b[49m\n",
      "File \u001b[1;32m~\\AppData\\Roaming\\Python\\Python310\\site-packages\\tensorflow\\python\\distribute\\distribute_lib.py:2891\u001b[0m, in \u001b[0;36mStrategyExtendedV1.call_for_each_replica\u001b[1;34m(self, fn, args, kwargs)\u001b[0m\n\u001b[0;32m   2889\u001b[0m   kwargs \u001b[38;5;241m=\u001b[39m {}\n\u001b[0;32m   2890\u001b[0m \u001b[38;5;28;01mwith\u001b[39;00m \u001b[38;5;28mself\u001b[39m\u001b[38;5;241m.\u001b[39m_container_strategy()\u001b[38;5;241m.\u001b[39mscope():\n\u001b[1;32m-> 2891\u001b[0m   \u001b[38;5;28;01mreturn\u001b[39;00m \u001b[38;5;28;43mself\u001b[39;49m\u001b[38;5;241;43m.\u001b[39;49m\u001b[43m_call_for_each_replica\u001b[49m\u001b[43m(\u001b[49m\u001b[43mfn\u001b[49m\u001b[43m,\u001b[49m\u001b[43m \u001b[49m\u001b[43margs\u001b[49m\u001b[43m,\u001b[49m\u001b[43m \u001b[49m\u001b[43mkwargs\u001b[49m\u001b[43m)\u001b[49m\n",
      "File \u001b[1;32m~\\AppData\\Roaming\\Python\\Python310\\site-packages\\tensorflow\\python\\distribute\\distribute_lib.py:3692\u001b[0m, in \u001b[0;36m_DefaultDistributionExtended._call_for_each_replica\u001b[1;34m(self, fn, args, kwargs)\u001b[0m\n\u001b[0;32m   3690\u001b[0m \u001b[38;5;28;01mdef\u001b[39;00m \u001b[38;5;21m_call_for_each_replica\u001b[39m(\u001b[38;5;28mself\u001b[39m, fn, args, kwargs):\n\u001b[0;32m   3691\u001b[0m   \u001b[38;5;28;01mwith\u001b[39;00m ReplicaContext(\u001b[38;5;28mself\u001b[39m\u001b[38;5;241m.\u001b[39m_container_strategy(), replica_id_in_sync_group\u001b[38;5;241m=\u001b[39m\u001b[38;5;241m0\u001b[39m):\n\u001b[1;32m-> 3692\u001b[0m     \u001b[38;5;28;01mreturn\u001b[39;00m fn(\u001b[38;5;241m*\u001b[39margs, \u001b[38;5;241m*\u001b[39m\u001b[38;5;241m*\u001b[39mkwargs)\n",
      "File \u001b[1;32m~\\AppData\\Roaming\\Python\\Python310\\site-packages\\tensorflow\\python\\autograph\\impl\\api.py:595\u001b[0m, in \u001b[0;36mcall_with_unspecified_conversion_status.<locals>.wrapper\u001b[1;34m(*args, **kwargs)\u001b[0m\n\u001b[0;32m    593\u001b[0m \u001b[38;5;28;01mdef\u001b[39;00m \u001b[38;5;21mwrapper\u001b[39m(\u001b[38;5;241m*\u001b[39margs, \u001b[38;5;241m*\u001b[39m\u001b[38;5;241m*\u001b[39mkwargs):\n\u001b[0;32m    594\u001b[0m   \u001b[38;5;28;01mwith\u001b[39;00m ag_ctx\u001b[38;5;241m.\u001b[39mControlStatusCtx(status\u001b[38;5;241m=\u001b[39mag_ctx\u001b[38;5;241m.\u001b[39mStatus\u001b[38;5;241m.\u001b[39mUNSPECIFIED):\n\u001b[1;32m--> 595\u001b[0m     \u001b[38;5;28;01mreturn\u001b[39;00m func(\u001b[38;5;241m*\u001b[39margs, \u001b[38;5;241m*\u001b[39m\u001b[38;5;241m*\u001b[39mkwargs)\n",
      "File \u001b[1;32m~\\AppData\\Roaming\\Python\\Python310\\site-packages\\keras\\engine\\training.py:1135\u001b[0m, in \u001b[0;36mModel.make_train_function.<locals>.step_function.<locals>.run_step\u001b[1;34m(data)\u001b[0m\n\u001b[0;32m   1134\u001b[0m \u001b[38;5;28;01mdef\u001b[39;00m \u001b[38;5;21mrun_step\u001b[39m(data):\n\u001b[1;32m-> 1135\u001b[0m     outputs \u001b[38;5;241m=\u001b[39m \u001b[43mmodel\u001b[49m\u001b[38;5;241;43m.\u001b[39;49m\u001b[43mtrain_step\u001b[49m\u001b[43m(\u001b[49m\u001b[43mdata\u001b[49m\u001b[43m)\u001b[49m\n\u001b[0;32m   1136\u001b[0m     \u001b[38;5;66;03m# Ensure counter is updated only if `train_step` succeeds.\u001b[39;00m\n\u001b[0;32m   1137\u001b[0m     \u001b[38;5;28;01mwith\u001b[39;00m tf\u001b[38;5;241m.\u001b[39mcontrol_dependencies(_minimum_control_deps(outputs)):\n",
      "Input \u001b[1;32mIn [31]\u001b[0m, in \u001b[0;36mDistiller.train_step\u001b[1;34m(self, data)\u001b[0m\n\u001b[0;32m     36\u001b[0m x, y, sample_weights \u001b[38;5;241m=\u001b[39m data        \n\u001b[0;32m     38\u001b[0m \u001b[38;5;66;03m# Forward pass of teacher\u001b[39;00m\n\u001b[1;32m---> 39\u001b[0m maps_teacher \u001b[38;5;241m=\u001b[39m \u001b[43mgenerate_gradcam_batch\u001b[49m\u001b[43m(\u001b[49m\u001b[43mx\u001b[49m\u001b[43m,\u001b[49m\u001b[43m \u001b[49m\u001b[43mteacher_model\u001b[49m\u001b[43m)\u001b[49m \u001b[38;5;66;03m# Using the global teacher variable\u001b[39;00m\n\u001b[0;32m     41\u001b[0m \u001b[38;5;28;01mwith\u001b[39;00m tf\u001b[38;5;241m.\u001b[39mGradientTape() \u001b[38;5;28;01mas\u001b[39;00m tape:\n\u001b[0;32m     42\u001b[0m     \u001b[38;5;66;03m# Forward pass of student\u001b[39;00m\n\u001b[0;32m     43\u001b[0m     student_predictions \u001b[38;5;241m=\u001b[39m \u001b[38;5;28mself\u001b[39m\u001b[38;5;241m.\u001b[39mstudent(x, training\u001b[38;5;241m=\u001b[39m\u001b[38;5;28;01mTrue\u001b[39;00m)\n",
      "File \u001b[1;32m~\\AppData\\Roaming\\Python\\Python310\\site-packages\\tensorflow\\python\\util\\traceback_utils.py:150\u001b[0m, in \u001b[0;36mfilter_traceback.<locals>.error_handler\u001b[1;34m(*args, **kwargs)\u001b[0m\n\u001b[0;32m    148\u001b[0m filtered_tb \u001b[38;5;241m=\u001b[39m \u001b[38;5;28;01mNone\u001b[39;00m\n\u001b[0;32m    149\u001b[0m \u001b[38;5;28;01mtry\u001b[39;00m:\n\u001b[1;32m--> 150\u001b[0m   \u001b[38;5;28;01mreturn\u001b[39;00m fn(\u001b[38;5;241m*\u001b[39margs, \u001b[38;5;241m*\u001b[39m\u001b[38;5;241m*\u001b[39mkwargs)\n\u001b[0;32m    151\u001b[0m \u001b[38;5;28;01mexcept\u001b[39;00m \u001b[38;5;167;01mException\u001b[39;00m \u001b[38;5;28;01mas\u001b[39;00m e:\n\u001b[0;32m    152\u001b[0m   filtered_tb \u001b[38;5;241m=\u001b[39m _process_traceback_frames(e\u001b[38;5;241m.\u001b[39m__traceback__)\n",
      "File \u001b[1;32m~\\AppData\\Roaming\\Python\\Python310\\site-packages\\tensorflow\\python\\eager\\def_function.py:892\u001b[0m, in \u001b[0;36mFunction.__call__\u001b[1;34m(self, *args, **kwds)\u001b[0m\n\u001b[0;32m    890\u001b[0m \u001b[38;5;28;01mif\u001b[39;00m \u001b[38;5;28mself\u001b[39m\u001b[38;5;241m.\u001b[39m_run_functions_eagerly:\n\u001b[0;32m    891\u001b[0m   \u001b[38;5;28;01mwith\u001b[39;00m trace\u001b[38;5;241m.\u001b[39mTrace(\u001b[38;5;28mself\u001b[39m\u001b[38;5;241m.\u001b[39m_name, tf_function_call\u001b[38;5;241m=\u001b[39m\u001b[38;5;124m\"\u001b[39m\u001b[38;5;124meager\u001b[39m\u001b[38;5;124m\"\u001b[39m):\n\u001b[1;32m--> 892\u001b[0m     \u001b[38;5;28;01mreturn\u001b[39;00m \u001b[38;5;28mself\u001b[39m\u001b[38;5;241m.\u001b[39m_python_function(\u001b[38;5;241m*\u001b[39margs, \u001b[38;5;241m*\u001b[39m\u001b[38;5;241m*\u001b[39mkwds)\n\u001b[0;32m    894\u001b[0m \u001b[38;5;66;03m# Only count the statistics the first time, before initialization took\u001b[39;00m\n\u001b[0;32m    895\u001b[0m \u001b[38;5;66;03m# place.\u001b[39;00m\n\u001b[0;32m    896\u001b[0m \u001b[38;5;28;01mif\u001b[39;00m \u001b[38;5;28mself\u001b[39m\u001b[38;5;241m.\u001b[39m_created_variables \u001b[38;5;129;01mis\u001b[39;00m \u001b[38;5;28;01mNone\u001b[39;00m:\n",
      "Input \u001b[1;32mIn [16]\u001b[0m, in \u001b[0;36mgenerate_gradcam_batch\u001b[1;34m(imgs, model)\u001b[0m\n\u001b[0;32m      3\u001b[0m fused_heatmaps \u001b[38;5;241m=\u001b[39m []\n\u001b[0;32m      4\u001b[0m \u001b[38;5;28;01mfor\u001b[39;00m image \u001b[38;5;129;01min\u001b[39;00m imgs:\n\u001b[1;32m----> 5\u001b[0m     heatmap \u001b[38;5;241m=\u001b[39m \u001b[43mcompute_gradcam_map\u001b[49m\u001b[43m(\u001b[49m\u001b[43mmodel\u001b[49m\u001b[43m,\u001b[49m\u001b[43m \u001b[49m\u001b[43mtf\u001b[49m\u001b[38;5;241;43m.\u001b[39;49m\u001b[43mexpand_dims\u001b[49m\u001b[43m(\u001b[49m\u001b[43mimage\u001b[49m\u001b[43m,\u001b[49m\u001b[43m \u001b[49m\u001b[43maxis\u001b[49m\u001b[43m \u001b[49m\u001b[38;5;241;43m=\u001b[39;49m\u001b[43m \u001b[49m\u001b[38;5;241;43m0\u001b[39;49m\u001b[43m)\u001b[49m\u001b[43m)\u001b[49m\n\u001b[0;32m      6\u001b[0m     fused_heatmaps\u001b[38;5;241m.\u001b[39mappend(heatmap)\n\u001b[0;32m      8\u001b[0m \u001b[38;5;28;01mreturn\u001b[39;00m tf\u001b[38;5;241m.\u001b[39mconvert_to_tensor(fused_heatmaps, tf\u001b[38;5;241m.\u001b[39mfloat32)\n",
      "File \u001b[1;32m~\\AppData\\Roaming\\Python\\Python310\\site-packages\\tensorflow\\python\\util\\traceback_utils.py:150\u001b[0m, in \u001b[0;36mfilter_traceback.<locals>.error_handler\u001b[1;34m(*args, **kwargs)\u001b[0m\n\u001b[0;32m    148\u001b[0m filtered_tb \u001b[38;5;241m=\u001b[39m \u001b[38;5;28;01mNone\u001b[39;00m\n\u001b[0;32m    149\u001b[0m \u001b[38;5;28;01mtry\u001b[39;00m:\n\u001b[1;32m--> 150\u001b[0m   \u001b[38;5;28;01mreturn\u001b[39;00m fn(\u001b[38;5;241m*\u001b[39margs, \u001b[38;5;241m*\u001b[39m\u001b[38;5;241m*\u001b[39mkwargs)\n\u001b[0;32m    151\u001b[0m \u001b[38;5;28;01mexcept\u001b[39;00m \u001b[38;5;167;01mException\u001b[39;00m \u001b[38;5;28;01mas\u001b[39;00m e:\n\u001b[0;32m    152\u001b[0m   filtered_tb \u001b[38;5;241m=\u001b[39m _process_traceback_frames(e\u001b[38;5;241m.\u001b[39m__traceback__)\n",
      "File \u001b[1;32m~\\AppData\\Roaming\\Python\\Python310\\site-packages\\tensorflow\\python\\eager\\def_function.py:892\u001b[0m, in \u001b[0;36mFunction.__call__\u001b[1;34m(self, *args, **kwds)\u001b[0m\n\u001b[0;32m    890\u001b[0m \u001b[38;5;28;01mif\u001b[39;00m \u001b[38;5;28mself\u001b[39m\u001b[38;5;241m.\u001b[39m_run_functions_eagerly:\n\u001b[0;32m    891\u001b[0m   \u001b[38;5;28;01mwith\u001b[39;00m trace\u001b[38;5;241m.\u001b[39mTrace(\u001b[38;5;28mself\u001b[39m\u001b[38;5;241m.\u001b[39m_name, tf_function_call\u001b[38;5;241m=\u001b[39m\u001b[38;5;124m\"\u001b[39m\u001b[38;5;124meager\u001b[39m\u001b[38;5;124m\"\u001b[39m):\n\u001b[1;32m--> 892\u001b[0m     \u001b[38;5;28;01mreturn\u001b[39;00m \u001b[38;5;28mself\u001b[39m\u001b[38;5;241m.\u001b[39m_python_function(\u001b[38;5;241m*\u001b[39margs, \u001b[38;5;241m*\u001b[39m\u001b[38;5;241m*\u001b[39mkwds)\n\u001b[0;32m    894\u001b[0m \u001b[38;5;66;03m# Only count the statistics the first time, before initialization took\u001b[39;00m\n\u001b[0;32m    895\u001b[0m \u001b[38;5;66;03m# place.\u001b[39;00m\n\u001b[0;32m    896\u001b[0m \u001b[38;5;28;01mif\u001b[39;00m \u001b[38;5;28mself\u001b[39m\u001b[38;5;241m.\u001b[39m_created_variables \u001b[38;5;129;01mis\u001b[39;00m \u001b[38;5;28;01mNone\u001b[39;00m:\n",
      "Input \u001b[1;32mIn [14]\u001b[0m, in \u001b[0;36mcompute_gradcam_map\u001b[1;34m(model, image, eps)\u001b[0m\n\u001b[0;32m      9\u001b[0m \u001b[38;5;28;01mwith\u001b[39;00m tf\u001b[38;5;241m.\u001b[39mGradientTape(persistent \u001b[38;5;241m=\u001b[39m \u001b[38;5;28;01mTrue\u001b[39;00m) \u001b[38;5;28;01mas\u001b[39;00m tape:\n\u001b[0;32m     10\u001b[0m     input_image \u001b[38;5;241m=\u001b[39m tf\u001b[38;5;241m.\u001b[39mcast(image, tf\u001b[38;5;241m.\u001b[39mfloat32)\n\u001b[1;32m---> 11\u001b[0m     convOutputs, predictions \u001b[38;5;241m=\u001b[39m \u001b[43mgradModel\u001b[49m\u001b[43m(\u001b[49m\u001b[43minput_image\u001b[49m\u001b[43m,\u001b[49m\u001b[43m \u001b[49m\u001b[43mtraining\u001b[49m\u001b[38;5;241;43m=\u001b[39;49m\u001b[38;5;28;43;01mFalse\u001b[39;49;00m\u001b[43m)\u001b[49m\n\u001b[0;32m     12\u001b[0m     classid \u001b[38;5;241m=\u001b[39m tf\u001b[38;5;241m.\u001b[39margmax(predictions[\u001b[38;5;241m0\u001b[39m])\n\u001b[0;32m     13\u001b[0m     loss \u001b[38;5;241m=\u001b[39m predictions[:, classid]\n",
      "File \u001b[1;32m~\\AppData\\Roaming\\Python\\Python310\\site-packages\\keras\\utils\\traceback_utils.py:65\u001b[0m, in \u001b[0;36mfilter_traceback.<locals>.error_handler\u001b[1;34m(*args, **kwargs)\u001b[0m\n\u001b[0;32m     63\u001b[0m filtered_tb \u001b[38;5;241m=\u001b[39m \u001b[38;5;28;01mNone\u001b[39;00m\n\u001b[0;32m     64\u001b[0m \u001b[38;5;28;01mtry\u001b[39;00m:\n\u001b[1;32m---> 65\u001b[0m     \u001b[38;5;28;01mreturn\u001b[39;00m fn(\u001b[38;5;241m*\u001b[39margs, \u001b[38;5;241m*\u001b[39m\u001b[38;5;241m*\u001b[39mkwargs)\n\u001b[0;32m     66\u001b[0m \u001b[38;5;28;01mexcept\u001b[39;00m \u001b[38;5;167;01mException\u001b[39;00m \u001b[38;5;28;01mas\u001b[39;00m e:\n\u001b[0;32m     67\u001b[0m     filtered_tb \u001b[38;5;241m=\u001b[39m _process_traceback_frames(e\u001b[38;5;241m.\u001b[39m__traceback__)\n",
      "File \u001b[1;32m~\\AppData\\Roaming\\Python\\Python310\\site-packages\\keras\\engine\\training.py:557\u001b[0m, in \u001b[0;36mModel.__call__\u001b[1;34m(self, *args, **kwargs)\u001b[0m\n\u001b[0;32m    553\u001b[0m         \u001b[38;5;28msuper\u001b[39m()\u001b[38;5;241m.\u001b[39m\u001b[38;5;21m__call__\u001b[39m(inputs, \u001b[38;5;241m*\u001b[39mcopied_args, \u001b[38;5;241m*\u001b[39m\u001b[38;5;241m*\u001b[39mcopied_kwargs)\n\u001b[0;32m    555\u001b[0m     layout_map_lib\u001b[38;5;241m.\u001b[39m_map_subclass_model_variable(\u001b[38;5;28mself\u001b[39m, \u001b[38;5;28mself\u001b[39m\u001b[38;5;241m.\u001b[39m_layout_map)\n\u001b[1;32m--> 557\u001b[0m \u001b[38;5;28;01mreturn\u001b[39;00m \u001b[38;5;28msuper\u001b[39m()\u001b[38;5;241m.\u001b[39m\u001b[38;5;21m__call__\u001b[39m(\u001b[38;5;241m*\u001b[39margs, \u001b[38;5;241m*\u001b[39m\u001b[38;5;241m*\u001b[39mkwargs)\n",
      "File \u001b[1;32m~\\AppData\\Roaming\\Python\\Python310\\site-packages\\keras\\utils\\traceback_utils.py:65\u001b[0m, in \u001b[0;36mfilter_traceback.<locals>.error_handler\u001b[1;34m(*args, **kwargs)\u001b[0m\n\u001b[0;32m     63\u001b[0m filtered_tb \u001b[38;5;241m=\u001b[39m \u001b[38;5;28;01mNone\u001b[39;00m\n\u001b[0;32m     64\u001b[0m \u001b[38;5;28;01mtry\u001b[39;00m:\n\u001b[1;32m---> 65\u001b[0m     \u001b[38;5;28;01mreturn\u001b[39;00m fn(\u001b[38;5;241m*\u001b[39margs, \u001b[38;5;241m*\u001b[39m\u001b[38;5;241m*\u001b[39mkwargs)\n\u001b[0;32m     66\u001b[0m \u001b[38;5;28;01mexcept\u001b[39;00m \u001b[38;5;167;01mException\u001b[39;00m \u001b[38;5;28;01mas\u001b[39;00m e:\n\u001b[0;32m     67\u001b[0m     filtered_tb \u001b[38;5;241m=\u001b[39m _process_traceback_frames(e\u001b[38;5;241m.\u001b[39m__traceback__)\n",
      "File \u001b[1;32m~\\AppData\\Roaming\\Python\\Python310\\site-packages\\keras\\engine\\base_layer.py:1055\u001b[0m, in \u001b[0;36mLayer.__call__\u001b[1;34m(self, *args, **kwargs)\u001b[0m\n\u001b[0;32m   1051\u001b[0m \u001b[38;5;66;03m# Losses are cleared for all sublayers on the outermost `Layer.call`.\u001b[39;00m\n\u001b[0;32m   1052\u001b[0m \u001b[38;5;66;03m# Losses are not cleared on inner `Layer.call`s, because sublayers can\u001b[39;00m\n\u001b[0;32m   1053\u001b[0m \u001b[38;5;66;03m# be called multiple times.\u001b[39;00m\n\u001b[0;32m   1054\u001b[0m \u001b[38;5;28;01mif\u001b[39;00m \u001b[38;5;129;01mnot\u001b[39;00m call_context\u001b[38;5;241m.\u001b[39min_call:\n\u001b[1;32m-> 1055\u001b[0m     \u001b[38;5;28;43mself\u001b[39;49m\u001b[38;5;241;43m.\u001b[39;49m\u001b[43m_clear_losses\u001b[49m\u001b[43m(\u001b[49m\u001b[43m)\u001b[49m\n\u001b[0;32m   1057\u001b[0m eager \u001b[38;5;241m=\u001b[39m tf\u001b[38;5;241m.\u001b[39mexecuting_eagerly()\n\u001b[0;32m   1058\u001b[0m \u001b[38;5;28;01mwith\u001b[39;00m call_context\u001b[38;5;241m.\u001b[39menter(\n\u001b[0;32m   1059\u001b[0m     layer\u001b[38;5;241m=\u001b[39m\u001b[38;5;28mself\u001b[39m,\n\u001b[0;32m   1060\u001b[0m     inputs\u001b[38;5;241m=\u001b[39minputs,\n\u001b[0;32m   1061\u001b[0m     build_graph\u001b[38;5;241m=\u001b[39m\u001b[38;5;129;01mnot\u001b[39;00m eager,\n\u001b[0;32m   1062\u001b[0m     training\u001b[38;5;241m=\u001b[39mtraining_mode,\n\u001b[0;32m   1063\u001b[0m ):\n",
      "File \u001b[1;32m~\\AppData\\Roaming\\Python\\Python310\\site-packages\\keras\\engine\\base_layer.py:2326\u001b[0m, in \u001b[0;36mLayer._clear_losses\u001b[1;34m(self)\u001b[0m\n\u001b[0;32m   2324\u001b[0m     \u001b[38;5;28mself\u001b[39m\u001b[38;5;241m.\u001b[39m_thread_local\u001b[38;5;241m.\u001b[39m_eager_losses \u001b[38;5;241m=\u001b[39m []\n\u001b[0;32m   2325\u001b[0m \u001b[38;5;28;01melse\u001b[39;00m:\n\u001b[1;32m-> 2326\u001b[0m     \u001b[38;5;28;01mfor\u001b[39;00m layer \u001b[38;5;129;01min\u001b[39;00m \u001b[38;5;28mself\u001b[39m\u001b[38;5;241m.\u001b[39m_flatten_layers():\n\u001b[0;32m   2327\u001b[0m         layer\u001b[38;5;241m.\u001b[39m_thread_local\u001b[38;5;241m.\u001b[39m_eager_losses \u001b[38;5;241m=\u001b[39m []\n",
      "File \u001b[1;32m~\\AppData\\Roaming\\Python\\Python310\\site-packages\\keras\\engine\\base_layer.py:3172\u001b[0m, in \u001b[0;36mLayer._flatten_layers\u001b[1;34m(self, recursive, include_self)\u001b[0m\n\u001b[0;32m   3171\u001b[0m \u001b[38;5;28;01mdef\u001b[39;00m \u001b[38;5;21m_flatten_layers\u001b[39m(\u001b[38;5;28mself\u001b[39m, recursive\u001b[38;5;241m=\u001b[39m\u001b[38;5;28;01mTrue\u001b[39;00m, include_self\u001b[38;5;241m=\u001b[39m\u001b[38;5;28;01mTrue\u001b[39;00m):\n\u001b[1;32m-> 3172\u001b[0m     \u001b[38;5;28;01mfor\u001b[39;00m m \u001b[38;5;129;01min\u001b[39;00m \u001b[38;5;28mself\u001b[39m\u001b[38;5;241m.\u001b[39m_flatten_modules(\n\u001b[0;32m   3173\u001b[0m         recursive\u001b[38;5;241m=\u001b[39mrecursive, include_self\u001b[38;5;241m=\u001b[39minclude_self\n\u001b[0;32m   3174\u001b[0m     ):\n\u001b[0;32m   3175\u001b[0m         \u001b[38;5;28;01mif\u001b[39;00m \u001b[38;5;28misinstance\u001b[39m(m, Layer):\n\u001b[0;32m   3176\u001b[0m             \u001b[38;5;28;01myield\u001b[39;00m m\n",
      "File \u001b[1;32m~\\AppData\\Roaming\\Python\\Python310\\site-packages\\keras\\engine\\base_layer.py:3204\u001b[0m, in \u001b[0;36mLayer._flatten_modules\u001b[1;34m(self, recursive, include_self)\u001b[0m\n\u001b[0;32m   3201\u001b[0m seen_object_ids\u001b[38;5;241m.\u001b[39madd(trackable_id)\n\u001b[0;32m   3203\u001b[0m \u001b[38;5;66;03m# Metrics are not considered part of the Layer's topology.\u001b[39;00m\n\u001b[1;32m-> 3204\u001b[0m \u001b[38;5;28;01mif\u001b[39;00m \u001b[38;5;28;43misinstance\u001b[39;49m\u001b[43m(\u001b[49m\u001b[43mtrackable_obj\u001b[49m\u001b[43m,\u001b[49m\u001b[43m \u001b[49m\u001b[43mtf\u001b[49m\u001b[38;5;241;43m.\u001b[39;49m\u001b[43mModule\u001b[49m\u001b[43m)\u001b[49m \u001b[38;5;129;01mand\u001b[39;00m \u001b[38;5;129;01mnot\u001b[39;00m \u001b[38;5;28misinstance\u001b[39m(\n\u001b[0;32m   3205\u001b[0m     trackable_obj, metrics_mod\u001b[38;5;241m.\u001b[39mMetric\n\u001b[0;32m   3206\u001b[0m ):\n\u001b[0;32m   3207\u001b[0m     \u001b[38;5;28;01myield\u001b[39;00m trackable_obj\n\u001b[0;32m   3208\u001b[0m     \u001b[38;5;66;03m# Introspect recursively through sublayers.\u001b[39;00m\n",
      "\u001b[1;31mKeyboardInterrupt\u001b[0m: "
     ]
    }
   ],
   "source": [
    "history = distiller.fit_generator(\n",
    "    training_generator,\n",
    "#     steps_per_epoch=1,\n",
    "#     validation_steps=1,\n",
    "    epochs = EPOCHS,\n",
    "#     initial_epoch=32,\n",
    "    validation_data = val_generator,\n",
    "    callbacks = mycallbacks,\n",
    "    class_weight=class_weights\n",
    ")"
   ]
  },
  {
   "cell_type": "code",
   "execution_count": null,
   "id": "37ae64ae",
   "metadata": {},
   "outputs": [],
   "source": [
    "# Plot accuracy graph\n",
    "plt.plot(history.history['accuracy'])\n",
    "plt.plot(history.history['val_accuracy'])\n",
    "plt.title('model accuracy')\n",
    "plt.ylabel('accuracy')\n",
    "plt.xlabel('epoch')\n",
    "plt.legend(['train', 'val'], loc='upper left')\n",
    "plt.show()"
   ]
  },
  {
   "cell_type": "code",
   "execution_count": null,
   "id": "7e36e5ba",
   "metadata": {},
   "outputs": [],
   "source": [
    "# Plot loss graph\n",
    "plt.plot(history.history['loss'])\n",
    "plt.plot(history.history['val_loss'])\n",
    "plt.title('model loss')\n",
    "plt.ylabel('loss')\n",
    "plt.xlabel('epoch')\n",
    "plt.legend(['train', 'val'], loc='upper left')\n",
    "plt.show()"
   ]
  },
  {
   "cell_type": "code",
   "execution_count": null,
   "id": "43a697d2",
   "metadata": {},
   "outputs": [],
   "source": [
    "val_loss, val_accuracy = distiller.evaluate(val_generator)\n",
    "print(val_loss, val_accuracy)"
   ]
  },
  {
   "cell_type": "markdown",
   "id": "6051ecae",
   "metadata": {
    "id": "kMx_VLppw7NX"
   },
   "source": [
    "# Visualize and Save attention maps"
   ]
  },
  {
   "cell_type": "code",
   "execution_count": null,
   "id": "d387fc6a",
   "metadata": {},
   "outputs": [],
   "source": [
    "training_generator.class_indices"
   ]
  },
  {
   "cell_type": "code",
   "execution_count": null,
   "id": "e65e230f",
   "metadata": {
    "id": "7V-LNe7BNrpu"
   },
   "outputs": [],
   "source": [
    "images, labels = training_generator.next()"
   ]
  },
  {
   "cell_type": "code",
   "execution_count": null,
   "id": "69229c3b",
   "metadata": {
    "id": "DeVkIQ-1Nw4F"
   },
   "outputs": [],
   "source": [
    "%%time\n",
    "heatmaps = generate_gradcam_batch(images, distiller.student)"
   ]
  },
  {
   "cell_type": "code",
   "execution_count": null,
   "id": "7bd21b88",
   "metadata": {},
   "outputs": [],
   "source": [
    "overlaid_images = [overlay_heatmap(hmap.numpy(), img, alpha=0.8) for (hmap, img) in zip(heatmaps, images)]"
   ]
  },
  {
   "cell_type": "code",
   "execution_count": null,
   "id": "8747e901",
   "metadata": {},
   "outputs": [],
   "source": [
    "print(\"True labels: \", tf.argmax(labels, axis = 1).numpy())\n",
    "print(\"Predictions: \", tf.argmax(teacher_model(images), axis=1).numpy())"
   ]
  },
  {
   "cell_type": "code",
   "execution_count": null,
   "id": "0e50e878",
   "metadata": {},
   "outputs": [],
   "source": [
    "plt.imshow(np.hstack(images))"
   ]
  },
  {
   "cell_type": "code",
   "execution_count": null,
   "id": "3ad83329",
   "metadata": {},
   "outputs": [],
   "source": [
    "plt.imshow(np.hstack(heatmaps), cmap=\"jet\")"
   ]
  },
  {
   "cell_type": "code",
   "execution_count": null,
   "id": "444b8125",
   "metadata": {},
   "outputs": [],
   "source": [
    "plt.imshow(np.hstack(overlaid_images))"
   ]
  },
  {
   "cell_type": "code",
   "execution_count": null,
   "id": "2d1af915",
   "metadata": {},
   "outputs": [],
   "source": [
    "OUTPUT_FOLDER = \"MIPS_teacher\"\n",
    "!mkdir \"$OUTPUT_FOLDER\""
   ]
  },
  {
   "cell_type": "code",
   "execution_count": null,
   "id": "3d5c1462",
   "metadata": {},
   "outputs": [],
   "source": [
    "IMAGE_START = 8"
   ]
  },
  {
   "cell_type": "code",
   "execution_count": null,
   "id": "42bcafb6",
   "metadata": {},
   "outputs": [],
   "source": [
    "!mkdir \"$OUTPUT_FOLDER/images\"\n",
    "for img_id, (img, label) in enumerate(zip(images, labels)):\n",
    "    plt.imsave(f\"{OUTPUT_FOLDER}/images/{img_id + IMAGE_START}_{tf.argmax(label)}.jpg\", img, cmap=\"jet\")"
   ]
  },
  {
   "cell_type": "code",
   "execution_count": null,
   "id": "45145034",
   "metadata": {},
   "outputs": [],
   "source": [
    "!mkdir \"$OUTPUT_FOLDER/gradcams\"\n",
    "for img_id, (img, label) in enumerate(zip(heatmaps, labels)):\n",
    "    plt.imsave(f\"{OUTPUT_FOLDER}/gradcams/{img_id + IMAGE_START}_{tf.argmax(label)}.jpg\", img, cmap=\"jet\")"
   ]
  },
  {
   "cell_type": "code",
   "execution_count": null,
   "id": "c2a8cd5e",
   "metadata": {},
   "outputs": [],
   "source": [
    "!mkdir \"$OUTPUT_FOLDER/overlaid\"\n",
    "for img_id, (img, label) in enumerate(zip(overlaid_images, labels)):\n",
    "    plt.imsave(f\"{OUTPUT_FOLDER}/overlaid/{img_id + IMAGE_START}_{tf.argmax(label)}.jpg\", img, cmap=\"jet\")"
   ]
  },
  {
   "cell_type": "code",
   "execution_count": null,
   "id": "e7635484",
   "metadata": {},
   "outputs": [],
   "source": []
  }
 ],
 "metadata": {
  "kernelspec": {
   "display_name": "Python 3 (ipykernel)",
   "language": "python",
   "name": "python3"
  },
  "language_info": {
   "codemirror_mode": {
    "name": "ipython",
    "version": 3
   },
   "file_extension": ".py",
   "mimetype": "text/x-python",
   "name": "python",
   "nbconvert_exporter": "python",
   "pygments_lexer": "ipython3",
   "version": "3.10.4"
  }
 },
 "nbformat": 4,
 "nbformat_minor": 5
}
